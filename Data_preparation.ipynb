{
 "cells": [
  {
   "cell_type": "code",
   "execution_count": 2,
   "metadata": {
    "collapsed": true
   },
   "outputs": [],
   "source": [
    "import pandas as pd\n",
    "import numpy as np\n",
    "%matplotlib inline"
   ]
  },
  {
   "cell_type": "code",
   "execution_count": 3,
   "metadata": {
    "collapsed": true
   },
   "outputs": [],
   "source": [
    "data = pd.read_csv('TAMU_FINAL_DATASET_2018.csv')"
   ]
  },
  {
   "cell_type": "code",
   "execution_count": 4,
   "metadata": {},
   "outputs": [
    {
     "data": {
      "text/plain": [
       "(100000, 448)"
      ]
     },
     "execution_count": 4,
     "metadata": {},
     "output_type": "execute_result"
    }
   ],
   "source": [
    "data.shape"
   ]
  },
  {
   "cell_type": "code",
   "execution_count": 5,
   "metadata": {},
   "outputs": [
    {
     "data": {
      "text/plain": [
       "ID                                 int64\n",
       "AGE                                int64\n",
       "SEX_CD                            object\n",
       "AMI_FLAG                           int64\n",
       "ESRD_IND                          object\n",
       "HOSPICE_IND                       object\n",
       "ORIG_REAS_ENTITLE_CD             float64\n",
       "RECON_MA_RISK_SCORE_NBR          float64\n",
       "RECON_RX_RISK_SCORE_NBR          float64\n",
       "PCP_ASSIGNMENT                    object\n",
       "DUAL                              object\n",
       "INSTITUTIONAL                     object\n",
       "LIS                               object\n",
       "MCO_HLVL_PLAN_CD                  object\n",
       "MCO_PROD_TYPE_CD                  object\n",
       "CON_VISIT_04_Q01                   int64\n",
       "CON_VISIT_04_Q02                   int64\n",
       "CON_VISIT_04_Q03                   int64\n",
       "CON_VISIT_04_Q04                   int64\n",
       "CON_VISIT_21_Q01                   int64\n",
       "CON_VISIT_21_Q02                   int64\n",
       "CON_VISIT_21_Q03                   int64\n",
       "CON_VISIT_03_Q02                   int64\n",
       "CON_VISIT_03_Q04                   int64\n",
       "CON_VISIT_05_Q02                   int64\n",
       "CON_VISIT_05_Q04                   int64\n",
       "CON_VISIT_09_Q02                   int64\n",
       "CON_VISIT_10_Q02                   int64\n",
       "CON_VISIT_18_Q02                   int64\n",
       "CON_VISIT_19_Q04                   int64\n",
       "                                  ...   \n",
       "College                          float64\n",
       "Online_purchaser                 float64\n",
       "Online_User                      float64\n",
       "Pct_above_poverty_line           float64\n",
       "Pct_below_poverty_line           float64\n",
       "Decile_struggle_Med_lang         float64\n",
       "Home_value                       float64\n",
       "Est_Net_worth                    float64\n",
       "Est_income                       float64\n",
       "Index_Health_ins_engage          float64\n",
       "Index_Health_ins_influence       float64\n",
       "Population_density_centile_ST    float64\n",
       "Population_density_centile_US    float64\n",
       "CDC                                int64\n",
       "CDC_HBATEST_GAP                    int64\n",
       "CDC_HBAPOOR_GAP                    int64\n",
       "CDC_NPH_GAP                        int64\n",
       "CDC_EYE_GAP                        int64\n",
       "BCS                                int64\n",
       "BCS_GAP                            int64\n",
       "COL                                int64\n",
       "COL_GAP                            int64\n",
       "AMM                                int64\n",
       "AMM_GAP                            int64\n",
       "DIAB_PASS                          int64\n",
       "ACE_PASS                           int64\n",
       "STATIN_PASS                        int64\n",
       "ACE_ELIG                           int64\n",
       "DIAB_ELIG                          int64\n",
       "STATIN_ELIG                        int64\n",
       "Length: 448, dtype: object"
      ]
     },
     "execution_count": 5,
     "metadata": {},
     "output_type": "execute_result"
    }
   ],
   "source": [
    "data.dtypes"
   ]
  },
  {
   "cell_type": "code",
   "execution_count": 6,
   "metadata": {},
   "outputs": [],
   "source": [
    "#First view 储存查看数据格式\n",
    "a = data.dtypes\n",
    "content = a.to_frame(name=None)\n",
    "content.to_csv('a.csv',encoding = \"utf-8\")"
   ]
  },
  {
   "cell_type": "code",
   "execution_count": 7,
   "metadata": {
    "collapsed": true
   },
   "outputs": [],
   "source": [
    "#Check missing 分别储存数据中Null值分布和数据格式\n",
    "b = data.apply(lambda x: sum(x.isnull()))\n",
    "content = b.to_frame(name=None)\n",
    "content.to_csv('b.csv',encoding = \"utf-8\")"
   ]
  },
  {
   "cell_type": "code",
   "execution_count": 9,
   "metadata": {},
   "outputs": [
    {
     "name": "stdout",
     "output_type": "stream",
     "text": [
      "\n",
      "Frequency count for variable SEX_CD\n",
      "F    56768\n",
      "M    43202\n",
      "Name: SEX_CD, dtype: int64\n",
      "\n",
      "Frequency count for variable ESRD_IND\n",
      "N    99413\n",
      "Y      555\n",
      "Name: ESRD_IND, dtype: int64\n",
      "\n",
      "Frequency count for variable HOSPICE_IND\n",
      "N    99522\n",
      "Y      446\n",
      "Name: HOSPICE_IND, dtype: int64\n",
      "\n",
      "Frequency count for variable DUAL\n",
      "N    86350\n",
      "Y    13620\n",
      "Name: DUAL, dtype: int64\n",
      "\n",
      "Frequency count for variable PCP_ASSIGNMENT\n",
      "MEMBER SELECTED    90198\n",
      "ATTRIBUTED          6473\n",
      "UNATTRIBUTED        3172\n",
      "Name: PCP_ASSIGNMENT, dtype: int64\n",
      "\n",
      "Frequency count for variable INSTITUTIONAL\n",
      "N    99455\n",
      "Y      515\n",
      "Name: INSTITUTIONAL, dtype: int64\n",
      "\n",
      "Frequency count for variable LIS\n",
      "N    79492\n",
      "Y    20478\n",
      "Name: LIS, dtype: int64\n",
      "\n",
      "Frequency count for variable MCO_HLVL_PLAN_CD\n",
      "MAPD    94714\n",
      "MA       5253\n",
      "Name: MCO_HLVL_PLAN_CD, dtype: int64\n",
      "\n",
      "Frequency count for variable MCO_PROD_TYPE_CD\n",
      "HMO     54267\n",
      "LPPO    24809\n",
      "RPPO    15927\n",
      "PFFS     4964\n",
      "Name: MCO_PROD_TYPE_CD, dtype: int64\n",
      "\n",
      "Frequency count for variable Diab_Type\n",
      "Diabetes Type II    30091\n",
      "Diabetes Unspeci     2854\n",
      "Diabetes Type I      2362\n",
      "Name: Diab_Type, dtype: int64\n",
      "\n",
      "Frequency count for variable Dwelling_Type\n",
      "S    71500\n",
      "A     8489\n",
      "P     4518\n",
      "T     1113\n",
      "C     1099\n",
      "B      714\n",
      "N      386\n",
      "M        2\n",
      "Name: Dwelling_Type, dtype: int64\n"
     ]
    }
   ],
   "source": [
    "#Look at categories of all object variables:\n",
    "\n",
    "var = ['SEX_CD','ESRD_IND','HOSPICE_IND','DUAL','PCP_ASSIGNMENT','INSTITUTIONAL','LIS','MCO_HLVL_PLAN_CD','MCO_PROD_TYPE_CD','Diab_Type','Dwelling_Type']\n",
    "for v in var:\n",
    "    print ('\\nFrequency count for variable %s'%v)\n",
    "    print (data[v].value_counts())"
   ]
  },
  {
   "cell_type": "code",
   "execution_count": 10,
   "metadata": {
    "collapsed": true
   },
   "outputs": [],
   "source": [
    "#Handle Individual Variables"
   ]
  },
  {
   "cell_type": "code",
   "execution_count": 11,
   "metadata": {
    "collapsed": true
   },
   "outputs": [],
   "source": [
    "#Boxplot for Num Data\n",
    "#data.boxplot(column='',return_type='axes')"
   ]
  },
  {
   "cell_type": "code",
   "execution_count": null,
   "metadata": {
    "collapsed": true
   },
   "outputs": [],
   "source": []
  }
 ],
 "metadata": {
  "kernelspec": {
   "display_name": "Python 3",
   "language": "python",
   "name": "python3"
  },
  "language_info": {
   "codemirror_mode": {
    "name": "ipython",
    "version": 3
   },
   "file_extension": ".py",
   "mimetype": "text/x-python",
   "name": "python",
   "nbconvert_exporter": "python",
   "pygments_lexer": "ipython3",
   "version": "3.5.0"
  }
 },
 "nbformat": 4,
 "nbformat_minor": 2
}
